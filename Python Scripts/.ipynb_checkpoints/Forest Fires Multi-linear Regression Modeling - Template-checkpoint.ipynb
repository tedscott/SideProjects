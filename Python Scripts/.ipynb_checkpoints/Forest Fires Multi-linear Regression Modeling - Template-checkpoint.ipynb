{
 "cells": [
  {
   "cell_type": "code",
   "execution_count": 1,
   "id": "077206f2",
   "metadata": {},
   "outputs": [],
   "source": [
    "# import packages\n",
    "import pandas as pd\n",
    "import numpy as np\n",
    "import matplotlib.pyplot as plt\n",
    "import seaborn as sns"
   ]
  },
  {
   "cell_type": "code",
   "execution_count": 2,
   "id": "ad6ad6c1",
   "metadata": {},
   "outputs": [],
   "source": [
    "# read in forest fires dataset using pd.read_csv()\n"
   ]
  },
  {
   "cell_type": "code",
   "execution_count": 3,
   "id": "02cd639a",
   "metadata": {},
   "outputs": [],
   "source": [
    "# check out contents of the data frame using describe() and head()\n",
    "\n"
   ]
  },
  {
   "cell_type": "code",
   "execution_count": 4,
   "id": "8ad5e9c7",
   "metadata": {},
   "outputs": [],
   "source": [
    "# create new column for natural log of (area + 1), called logArea\n"
   ]
  },
  {
   "cell_type": "code",
   "execution_count": 5,
   "id": "33846014",
   "metadata": {},
   "outputs": [],
   "source": [
    "# drop factor columns for month & day from data frame\n",
    "# build feature data frame and label data frame (one DF of feature columns, and one DF/list of label a.k.a. logArea)\n"
   ]
  },
  {
   "cell_type": "code",
   "execution_count": 6,
   "id": "9a1a08f3",
   "metadata": {},
   "outputs": [],
   "source": [
    "# confirm contents of feature and label data frames\n"
   ]
  },
  {
   "cell_type": "code",
   "execution_count": 7,
   "id": "2456d9c1",
   "metadata": {},
   "outputs": [],
   "source": [
    "# (optional) make correlation plot using seaborn's heatmap\n"
   ]
  },
  {
   "cell_type": "code",
   "execution_count": 8,
   "id": "24a40c30",
   "metadata": {},
   "outputs": [],
   "source": [
    "# plot each feature column vs logArea using a scatterplot (e.g. seaborn's scatterplot)\n"
   ]
  },
  {
   "cell_type": "code",
   "execution_count": 9,
   "id": "da55bbea",
   "metadata": {},
   "outputs": [],
   "source": [
    "# create train/test split of data, 80/20 split\n"
   ]
  },
  {
   "cell_type": "code",
   "execution_count": 10,
   "id": "43edec95",
   "metadata": {},
   "outputs": [],
   "source": [
    "# linear regression\n",
    "# import from sklearn, build model object, and use fit() to build model\n"
   ]
  },
  {
   "cell_type": "code",
   "execution_count": 11,
   "id": "9f96ace4",
   "metadata": {},
   "outputs": [],
   "source": [
    "# output model coefficients\n",
    "\n"
   ]
  },
  {
   "cell_type": "code",
   "execution_count": 12,
   "id": "30aadea4",
   "metadata": {},
   "outputs": [],
   "source": [
    "# make predictions based on test data\n"
   ]
  },
  {
   "cell_type": "code",
   "execution_count": 13,
   "id": "831962cd",
   "metadata": {},
   "outputs": [],
   "source": [
    "# Check model performance with RMSE\n"
   ]
  },
  {
   "cell_type": "code",
   "execution_count": 14,
   "id": "cc5931aa",
   "metadata": {},
   "outputs": [],
   "source": [
    "# done!"
   ]
  }
 ],
 "metadata": {
  "kernelspec": {
   "display_name": "Python 3 (ipykernel)",
   "language": "python",
   "name": "python3"
  },
  "language_info": {
   "codemirror_mode": {
    "name": "ipython",
    "version": 3
   },
   "file_extension": ".py",
   "mimetype": "text/x-python",
   "name": "python",
   "nbconvert_exporter": "python",
   "pygments_lexer": "ipython3",
   "version": "3.9.13"
  }
 },
 "nbformat": 4,
 "nbformat_minor": 5
}
