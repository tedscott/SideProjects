{
 "cells": [
  {
   "cell_type": "code",
   "execution_count": null,
   "id": "0f0ecdb8-6218-436b-b853-29510d738846",
   "metadata": {},
   "outputs": [],
   "source": [
    "# two tasks to complete - what is the prob that I can get them done in under 9 hours?\n",
    "\n",
    "import numpy as np\n",
    "import matplotlib.pyplot as plt\n",
    "\n",
    "# simulations to perform\n",
    "N = 1000000\n",
    "\n",
    "# one activity takes between 1-5 hrs, the other 2-6, each time has equal prob, so uniform\n",
    "A = np.random.uniform(1,5,N)\n",
    "B = np.random.uniform(2,6,N)\n",
    "\n",
    "# total duration of two tasks\n",
    "duration = A + B\n",
    "\n",
    "# plot as density\n",
    "plt.figure(figsize=(4,3))\n",
    "plt.hist(duration, density=True)\n",
    "plt.axvline(9, c='r')\n",
    "plt.show()\n",
    "\n",
    "# also print prob of times we exceed 9 hours\n",
    "print((duration > 9).sum()/N, \" is the probability completing the two tasks will exceed 9 hours\")"
   ]
  }
 ],
 "metadata": {
  "kernelspec": {
   "display_name": "Python 3 (ipykernel)",
   "language": "python",
   "name": "python3"
  },
  "language_info": {
   "codemirror_mode": {
    "name": "ipython",
    "version": 3
   },
   "file_extension": ".py",
   "mimetype": "text/x-python",
   "name": "python",
   "nbconvert_exporter": "python",
   "pygments_lexer": "ipython3",
   "version": "3.11.8"
  }
 },
 "nbformat": 4,
 "nbformat_minor": 5
}
