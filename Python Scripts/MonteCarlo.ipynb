{
 "cells": [
  {
   "cell_type": "code",
   "execution_count": 1,
   "id": "0f0ecdb8-6218-436b-b853-29510d738846",
   "metadata": {},
   "outputs": [
    {
     "data": {
      "image/png": "[encoded data removed]",
      "text/plain": [
       "<Figure size 400x300 with 1 Axes>"
      ]
     },
     "metadata": {},
     "output_type": "display_data"
    },
    {
     "name": "stdout",
     "output_type": "stream",
     "text": [
      "0.124278  is the probability completing the two tasks will exceed 9 hours\n"
     ]
    }
   ],
   "source": [
    "# two tasks to complete - what is the prob that I can get them done in under 9 hours?\n",
    "\n",
    "import numpy as np\n",
    "import matplotlib.pyplot as plt\n",
    "\n",
    "# simulations to perform\n",
    "N = 1000000\n",
    "\n",
    "# one activity takes between 1-5 hrs, the other 2-6, each time has equal prob, so uniform\n",
    "A = np.random.uniform(1,5,N)\n",
    "B = np.random.uniform(2,6,N)\n",
    "\n",
    "# total duration of two tasks\n",
    "duration = A + B\n",
    "\n",
    "# plot as density\n",
    "plt.figure(figsize=(4,3))\n",
    "plt.hist(duration, density=True)\n",
    "plt.axvline(9, c='r')\n",
    "plt.show()\n",
    "\n",
    "# also print prob of times we exceed 9 hours\n",
    "print((duration > 9).sum()/N, \" is the probability completing the two tasks will exceed 9 hours\")"
   ]
  },
  {
   "cell_type": "markdown",
   "id": "425e7608-34b1-4e56-bc2b-1d174ea6ee7c",
   "metadata": {},
   "source": [
    "### Now for two rolled dice"
   ]
  },
  {
   "cell_type": "code",
   "execution_count": 46,
   "id": "d6f2dea0-ee16-4913-bc5d-5d53e6dc5eb1",
   "metadata": {},
   "outputs": [
    {
     "data": {
      "image/png": "[encoded data removed]",
      "text/plain": [
       "<Figure size 640x480 with 1 Axes>"
      ]
     },
     "metadata": {},
     "output_type": "display_data"
    },
    {
     "name": "stdout",
     "output_type": "stream",
     "text": [
      "The prob of getting a sum of 10, 11, or 12 =  0.166791\n",
      "versus the prob of getting 7 =  0.166995\n"
     ]
    }
   ],
   "source": [
    "d1 = np.random.randint(1,7,N)\n",
    "d2 = np.random.randint(1,7,N)\n",
    "\n",
    "total = d1 + d2\n",
    "\n",
    "plt.hist(total, density = True)\n",
    "plt.axvline(np.median(total), c='r')\n",
    "plt.show()\n",
    "print(\"The prob of getting a sum of 10, 11, or 12 = \", ((total >= 10).sum()/N))\n",
    "print(\"versus the prob of getting 7 = \", ((total == 7).sum()/N))"
   ]
  },
  {
   "cell_type": "code",
   "execution_count": 41,
   "id": "194f8169-a3a4-4033-af34-36f489a9fcf0",
   "metadata": {},
   "outputs": [
    {
     "data": {
      "text/plain": [
       "array([2, 2, 4, 4, 1, 4, 4, 4, 3, 5, 4, 2, 3, 1, 2, 5, 4, 4, 5, 5, 1, 4,\n",
       "       1, 4, 1, 2, 4, 2, 4, 2, 4, 4, 4, 2, 5, 1, 4, 2, 1, 3, 5, 1, 3, 5,\n",
       "       5, 5, 2, 4, 2, 5, 1, 5, 2, 3, 5, 2, 1, 3, 1, 3, 2, 2, 5, 4, 4, 3,\n",
       "       5, 2, 4, 3, 4, 3, 2, 1, 3, 3, 4, 1, 2, 4, 5, 2, 4, 3, 3, 3, 1, 1,\n",
       "       3, 4, 2, 5, 1, 2, 5, 2, 3, 5, 5, 3])"
      ]
     },
     "execution_count": 41,
     "metadata": {},
     "output_type": "execute_result"
    }
   ],
   "source": [
    "np.random.randint(1,6,100)"
   ]
  },
  {
   "cell_type": "code",
   "execution_count": 27,
   "id": "47bf133c-622e-4f04-83bd-3d5db4eef389",
   "metadata": {},
   "outputs": [
    {
     "ename": "ValueError",
     "evalue": "The truth value of an array with more than one element is ambiguous. Use a.any() or a.all()",
     "output_type": "error",
     "traceback": [
      "\u001b[0;31m---------------------------------------------------------------------------\u001b[0m",
      "\u001b[0;31mValueError\u001b[0m                                Traceback (most recent call last)",
      "Cell \u001b[0;32mIn[27], line 1\u001b[0m\n\u001b[0;32m----> 1\u001b[0m [x \u001b[38;5;28;01mfor\u001b[39;00m x \u001b[38;5;129;01min\u001b[39;00m (\u001b[38;5;241m6.5\u001b[39m \u001b[38;5;241m<\u001b[39m total \u001b[38;5;129;01mand\u001b[39;00m total \u001b[38;5;241m<\u001b[39m \u001b[38;5;241m7.5\u001b[39m)]\n",
      "\u001b[0;31mValueError\u001b[0m: The truth value of an array with more than one element is ambiguous. Use a.any() or a.all()"
     ]
    }
   ],
   "source": [
    "[x for x in (6.5 < total and total < 7.5)]"
   ]
  },
  {
   "cell_type": "code",
   "execution_count": null,
   "id": "a57c2fb0-c45a-42b4-bdbc-e8044be0d634",
   "metadata": {},
   "outputs": [],
   "source": []
  }
 ],
 "metadata": {
  "kernelspec": {
   "display_name": "Python 3 (ipykernel)",
   "language": "python",
   "name": "python3"
  },
  "language_info": {
   "codemirror_mode": {
    "name": "ipython",
    "version": 3
   },
   "file_extension": ".py",
   "mimetype": "text/x-python",
   "name": "python",
   "nbconvert_exporter": "python",
   "pygments_lexer": "ipython3",
   "version": "3.11.8"
  }
 },
 "nbformat": 4,
 "nbformat_minor": 5
}
